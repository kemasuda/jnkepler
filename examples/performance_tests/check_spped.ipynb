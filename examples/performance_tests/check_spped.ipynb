{
 "cells": [
  {
   "cell_type": "code",
   "execution_count": 22,
   "id": "754d77a5",
   "metadata": {},
   "outputs": [],
   "source": [
    "import pandas as pd\n",
    "import jax.numpy as jnp \n",
    "import numpy as np\n",
    "from jax import jit\n",
    "import pkg_resources, glob\n",
    "from jnkepler.jaxttv import JaxTTV\n",
    "from jnkepler.jaxttv.utils import *\n",
    "from jnkepler.jaxttv.conversion import *\n",
    "from jnkepler.jaxttv.findtransit import find_transit_times_single, find_transit_times_all, find_transit_times_kepler_all\n",
    "from jnkepler.jaxttv.symplectic import integrate_xv, kepler_step_map\n",
    "from jnkepler.jaxttv.hermite4 import integrate_xv as integrate_xv_hermite4"
   ]
  },
  {
   "cell_type": "code",
   "execution_count": 23,
   "id": "08478288",
   "metadata": {},
   "outputs": [],
   "source": [
    "path = pkg_resources.resource_filename('jnkepler', 'data/')"
   ]
  },
  {
   "cell_type": "code",
   "execution_count": 24,
   "id": "38ac71bd",
   "metadata": {},
   "outputs": [],
   "source": [
    "p_init = [45.155305, 85.31646, 130.17809]\n",
    "d = pd.read_csv(path+\"kep51_ttv.txt\", delim_whitespace=True, header=None, names=['tnum', 'tc', 'tcerr', 'dnum', 'planum'])\n",
    "tcobs = [np.array(d.tc[d.planum==j+1]) for j in range(3)]"
   ]
  },
  {
   "cell_type": "code",
   "execution_count": 25,
   "id": "3e284d3a",
   "metadata": {},
   "outputs": [],
   "source": [
    "dt = 1.0\n",
    "t_start, t_end = 155., 2950.\n",
    "jttv = JaxTTV(t_start, t_end, dt)\n",
    "jttv.set_tcobs(tcobs, p_init, print_info=False)\n",
    "params_test = np.loadtxt(glob.glob(path+\"kep51*_params.txt\")[0])\n",
    "elements, masses = params_to_elements(params_test, jttv.nplanet)\n",
    "self = jttv"
   ]
  },
  {
   "cell_type": "code",
   "execution_count": 27,
   "id": "e35cdd8e",
   "metadata": {},
   "outputs": [
    {
     "name": "stdout",
     "output_type": "stream",
     "text": [
      "92.2 µs ± 2.21 µs per loop (mean ± std. dev. of 7 runs, 10,000 loops each)\n"
     ]
    }
   ],
   "source": [
    "%%timeit\n",
    "# develop: 3.29 ms ± 63.1 µs per loop (mean ± std. dev. of 7 runs, 100 loops each)\n",
    "xjac0, vjac0 = jit(initialize_jacobi_xv)(elements, masses, self.t_start)"
   ]
  },
  {
   "cell_type": "code",
   "execution_count": 32,
   "id": "695116f8",
   "metadata": {},
   "outputs": [],
   "source": [
    "@jit\n",
    "def integrate_xv_jit(xjac0, vjac0, masses):\n",
    "    return integrate_xv(xjac0, vjac0, masses, self.times, nitr=self.nitr_kepler)"
   ]
  },
  {
   "cell_type": "code",
   "execution_count": 34,
   "id": "e5cd67f9",
   "metadata": {},
   "outputs": [
    {
     "name": "stdout",
     "output_type": "stream",
     "text": [
      "1.15 ms ± 26 µs per loop (mean ± std. dev. of 7 runs, 1 loop each)\n"
     ]
    }
   ],
   "source": [
    "%%timeit\n",
    "# develop: 406 ms ± 11.7 ms per loop (mean ± std. dev. of 7 runs, 1 loop each), 414 ms for nitr=1\n",
    "times, xvjac = integrate_xv_jit(xjac0, vjac0, masses)"
   ]
  },
  {
   "cell_type": "code",
   "execution_count": 36,
   "id": "eaeb7fe6",
   "metadata": {},
   "outputs": [
    {
     "name": "stdout",
     "output_type": "stream",
     "text": [
      "733 ns ± 8.51 ns per loop (mean ± std. dev. of 7 runs, 1,000,000 loops each)\n"
     ]
    }
   ],
   "source": [
    "%%timeit\n",
    "orbit_idx = self.pidx.astype(int) - 1 # idx for orbit, starting from 0\n",
    "tcobs1d = self.tcobs_flatten"
   ]
  },
  {
   "cell_type": "code",
   "execution_count": 38,
   "id": "1683394c",
   "metadata": {},
   "outputs": [],
   "source": [
    "@jit\n",
    "def find_tt_jit(orbit_idx, tcobs1d, times, xvjac, masses):\n",
    "    return find_transit_times_all(orbit_idx, tcobs1d, times, xvjac, masses, nitr=self.nitr_transit)"
   ]
  },
  {
   "cell_type": "code",
   "execution_count": 39,
   "id": "4dd16400",
   "metadata": {},
   "outputs": [
    {
     "name": "stdout",
     "output_type": "stream",
     "text": [
      "353 ms ± 16.2 ms per loop (mean ± std. dev. of 7 runs, 1 loop each)\n"
     ]
    }
   ],
   "source": [
    "%%timeit\n",
    "#develop: 351 ms ± 23.6 ms per loop (mean ± std. dev. of 7 runs, 1 loop each), 299ms for nitr=1\n",
    "transit_times = find_transit_times_all(orbit_idx, tcobs1d, times, xvjac, masses, nitr=self.nitr_transit)"
   ]
  },
  {
   "cell_type": "code",
   "execution_count": 40,
   "id": "d62d13ee",
   "metadata": {},
   "outputs": [
    {
     "name": "stdout",
     "output_type": "stream",
     "text": [
      "722 µs ± 7.7 µs per loop (mean ± std. dev. of 7 runs, 1 loop each)\n"
     ]
    }
   ],
   "source": [
    "%%timeit\n",
    "tt = find_tt_jit(orbit_idx, tcobs1d, times, xvjac, masses)"
   ]
  },
  {
   "cell_type": "code",
   "execution_count": 43,
   "id": "55b6d115",
   "metadata": {},
   "outputs": [],
   "source": [
    "from functools import partial\n",
    "#@partial(jit, static_argnums=(0,))\n",
    "@jit\n",
    "def func(elements, masses):\n",
    "    xjac0, vjac0 = initialize_jacobi_xv(elements, masses, self.t_start)\n",
    "    times, xvjac = integrate_xv(xjac0, vjac0, masses, self.times, nitr=self.nitr_kepler)\n",
    "    orbit_idx = self.pidx.astype(int) - 1 # idx for orbit, starting from 0\n",
    "    tcobs1d = self.tcobs_flatten\n",
    "    transit_times = find_transit_times_all(orbit_idx, tcobs1d, times, xvjac, masses, nitr=self.nitr_transit)\n",
    "    return transit_times"
   ]
  },
  {
   "cell_type": "code",
   "execution_count": 45,
   "id": "1f8d4c10",
   "metadata": {},
   "outputs": [
    {
     "name": "stdout",
     "output_type": "stream",
     "text": [
      "1.76 ms ± 18.6 µs per loop (mean ± std. dev. of 7 runs, 1,000 loops each)\n"
     ]
    }
   ],
   "source": [
    "%%timeit\n",
    "func(elements, masses)"
   ]
  },
  {
   "cell_type": "code",
   "execution_count": null,
   "id": "af86e9b4",
   "metadata": {},
   "outputs": [],
   "source": []
  },
  {
   "cell_type": "code",
   "execution_count": 45,
   "id": "88662fce",
   "metadata": {},
   "outputs": [
    {
     "name": "stdout",
     "output_type": "stream",
     "text": [
      "299 ms ± 10.7 ms per loop (mean ± std. dev. of 7 runs, 1 loop each)\n"
     ]
    }
   ],
   "source": [
    "%%timeit\n",
    "transit_times = find_transit_times_all(orbit_idx, tcobs1d, times, xvjac, masses, nitr=1)"
   ]
  },
  {
   "attachments": {},
   "cell_type": "markdown",
   "id": "7efcbe7a",
   "metadata": {},
   "source": [
    "Integrate xv"
   ]
  },
  {
   "cell_type": "code",
   "execution_count": 52,
   "id": "19cbfb5e",
   "metadata": {},
   "outputs": [],
   "source": [
    "times, xvjac = integrate_xv(xjac0, vjac0, masses, self.times, nitr=self.nitr_kepler)"
   ]
  },
  {
   "cell_type": "code",
   "execution_count": null,
   "id": "17436ffa",
   "metadata": {},
   "outputs": [],
   "source": []
  },
  {
   "cell_type": "code",
   "execution_count": null,
   "id": "e9fe49cc",
   "metadata": {},
   "outputs": [],
   "source": []
  }
 ],
 "metadata": {
  "kernelspec": {
   "display_name": "jax",
   "language": "python",
   "name": "python3"
  },
  "language_info": {
   "codemirror_mode": {
    "name": "ipython",
    "version": 3
   },
   "file_extension": ".py",
   "mimetype": "text/x-python",
   "name": "python",
   "nbconvert_exporter": "python",
   "pygments_lexer": "ipython3",
   "version": "3.9.18"
  }
 },
 "nbformat": 4,
 "nbformat_minor": 5
}
