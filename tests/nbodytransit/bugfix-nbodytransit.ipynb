{
 "cells": [
  {
   "cell_type": "code",
   "execution_count": 1,
   "id": "40dcba0c",
   "metadata": {},
   "outputs": [],
   "source": [
    "import numpy as np\n",
    "import jax.numpy as jnp\n",
    "import matplotlib.pyplot as plt\n",
    "import pandas as pd\n",
    "import corner\n",
    "from jnkepler.jaxttv.utils import elements_to_pdic, params_to_elements\n",
    "from jnkepler.nbodytransit import *\n",
    "from jax.config import config\n",
    "import numpyro, jax\n",
    "config.update('jax_enable_x64', True)\n",
    "numpyro.set_platform('cpu')"
   ]
  },
  {
   "cell_type": "code",
   "execution_count": 3,
   "id": "1f6aac7c",
   "metadata": {},
   "outputs": [],
   "source": [
    "path = \"/Users/k_masuda/Dropbox/repos/jnkepler/src/jnkepler/data/\""
   ]
  },
  {
   "cell_type": "code",
   "execution_count": 4,
   "id": "a1b6ef68",
   "metadata": {
    "scrolled": false
   },
   "outputs": [
    {
     "name": "stdout",
     "output_type": "stream",
     "text": [
      "# integration starts at:           155.00\n",
      "# first transit time in data:      159.11\n",
      "# last transit time in data:       1489.75\n",
      "# integration ends at:             1500.00\n",
      "# integration time step:           1.0000 (1/45 of innermost period)\n"
     ]
    }
   ],
   "source": [
    "d = pd.read_csv(path+\"kep51_ttv_photodtest.txt\", delim_whitespace=True, header=None, names=['tnum', 'tc', 'tcerr', 'dnum', 'planum'])\n",
    "tcobs = [jnp.array(d.tc[d.planum==j+1]) for j in range(3)]\n",
    "errorobs = [jnp.array(d.tcerr[d.planum==j+1]) for j in range(3)]\n",
    "p_init = [45.155305, 85.31646, 130.17809]\n",
    "\n",
    "dt = 1.0\n",
    "t_start, t_end = 155., 2950.-1450\n",
    "nt = NbodyTransit(t_start, t_end, dt)\n",
    "nt.set_tcobs(tcobs, p_init, errorobs=errorobs, print_info=True)"
   ]
  },
  {
   "cell_type": "markdown",
   "id": "7314c381",
   "metadata": {},
   "source": [
    "## lightcurve data"
   ]
  },
  {
   "cell_type": "raw",
   "id": "6a0d05a6",
   "metadata": {},
   "source": [
    "data = pd.read_csv(\"lc.txt\", delim_whitespace=True, header=None, names=['time', 'flux', 'flux_err', 'tranum', 'plnum'])\n",
    "df = data.sort_values(\"time\").reset_index(drop=True)\n",
    "df.to_csv(\"kep51_lc_photodtest.csv\", index=False)"
   ]
  },
  {
   "cell_type": "code",
   "execution_count": 5,
   "id": "6d960e6b",
   "metadata": {},
   "outputs": [],
   "source": [
    "df = pd.read_csv(path+\"kep51_lc_photodtest.csv\")"
   ]
  },
  {
   "cell_type": "code",
   "execution_count": 6,
   "id": "ba679426",
   "metadata": {},
   "outputs": [],
   "source": [
    "times_lc = jnp.array(df.time)\n",
    "fluxes, errors = jnp.array(df.flux), jnp.array(df.flux_err)"
   ]
  },
  {
   "cell_type": "code",
   "execution_count": 7,
   "id": "0865c858",
   "metadata": {},
   "outputs": [
    {
     "name": "stdout",
     "output_type": "stream",
     "text": [
      "# exposure time (min):             29.4\n",
      "# supersampling factor:            10\n",
      "# overlapping transit ignored.     \n"
     ]
    }
   ],
   "source": [
    "nt.set_lcobs(times_lc)"
   ]
  },
  {
   "cell_type": "markdown",
   "id": "364b4e3c",
   "metadata": {},
   "source": [
    "## nan in tc?\n",
    "- M1, jax=0.2.28, numpyro=0.10.0\n",
    "- not reproduced with jax=0.2.13 with intel macbookpro\n",
    "- what about unix server?"
   ]
  },
  {
   "cell_type": "code",
   "execution_count": 8,
   "id": "da841446",
   "metadata": {},
   "outputs": [
    {
     "name": "stdout",
     "output_type": "stream",
     "text": [
      "0.2.28\n"
     ]
    }
   ],
   "source": [
    "print (jax.__version__)"
   ]
  },
  {
   "cell_type": "code",
   "execution_count": 9,
   "id": "8e5439ca",
   "metadata": {},
   "outputs": [
    {
     "name": "stdout",
     "output_type": "stream",
     "text": [
      "0.10.0\n"
     ]
    }
   ],
   "source": [
    "print (numpyro.__version__)"
   ]
  },
  {
   "cell_type": "code",
   "execution_count": 10,
   "id": "c12ab50b",
   "metadata": {},
   "outputs": [],
   "source": [
    "elements, masses = np.loadtxt(path+\"tcbug_elements.txt\"), np.loadtxt(path+\"tcbug_masses.txt\")"
   ]
  },
  {
   "cell_type": "code",
   "execution_count": 11,
   "id": "cec22a04",
   "metadata": {},
   "outputs": [],
   "source": [
    "rstar, u1, u2 = 1., 0.5, 0.2\n",
    "prad = jnp.array([0.07, 0.05, 0.1])"
   ]
  },
  {
   "cell_type": "code",
   "execution_count": 12,
   "id": "3428969e",
   "metadata": {},
   "outputs": [
    {
     "data": {
      "text/plain": [
       "(DeviceArray([1., 1., 1., ..., 1., 1., 1.], dtype=float64),\n",
       " DeviceArray([ 159.10962818,  204.26356894,  249.41762174,  294.57132468,\n",
       "               339.72512225,  384.87907157,  430.03372513,  520.34407767,\n",
       "               565.50045497,  610.65736847,  655.81379071,  700.97230582,\n",
       "               746.12836105,  791.28633531,  836.44185803,  881.59781525,\n",
       "               926.75233429,  971.9063965 , 1017.06031134, 1062.21363032,\n",
       "              1107.36734885, 1152.52108559, 1197.67531679, 1242.83008414,\n",
       "              1287.98533976, 1333.14145533, 1378.29826324, 1423.45470178,\n",
       "              1468.61323666,  295.31954395,  380.63770666,           nan,\n",
       "               551.26165241,  636.57517693,  892.51335784,  977.84176186,\n",
       "              1148.47033585, 1233.80274638, 1319.11513582, 1489.75636904,\n",
       "               212.02387996,  342.20839472,  472.39025711,  602.57377467,\n",
       "               862.93290922,  993.10376866, 1123.2846728 , 1253.45058239,\n",
       "              1383.6302946 ], dtype=float64))"
      ]
     },
     "execution_count": 12,
     "metadata": {},
     "output_type": "execute_result"
    }
   ],
   "source": [
    "nt.get_lc(elements, masses, rstar, prad, u1, u2)"
   ]
  },
  {
   "cell_type": "code",
   "execution_count": 13,
   "id": "1efefa59",
   "metadata": {},
   "outputs": [
    {
     "data": {
      "text/plain": [
       "(DeviceArray([ 159.10962818,  204.26356894,  249.41762174,  294.57132468,\n",
       "               339.72512225,  384.87907157,  430.03372513,  520.34407767,\n",
       "               565.50045497,  610.65736847,  655.81379071,  700.97230582,\n",
       "               746.12836105,  791.28633531,  836.44185803,  881.59781525,\n",
       "               926.75233429,  971.9063965 , 1017.06031134, 1062.21363032,\n",
       "              1107.36734885, 1152.52108559, 1197.67531679, 1242.83008414,\n",
       "              1287.98533976, 1333.14145533, 1378.29826324, 1423.45470178,\n",
       "              1468.61323666,  295.31954395,  380.63770666,           nan,\n",
       "               551.26165241,  636.57517693,  892.51335784,  977.84176186,\n",
       "              1148.47033585, 1233.80274638, 1319.11513582, 1489.75636904,\n",
       "               212.02387996,  342.20839472,  472.39025711,  602.57377467,\n",
       "               862.93290922,  993.10376866, 1123.2846728 , 1253.45058239,\n",
       "              1383.6302946 ], dtype=float64),\n",
       " DeviceArray(1.70236603e-09, dtype=float64))"
      ]
     },
     "execution_count": 13,
     "metadata": {},
     "output_type": "execute_result"
    }
   ],
   "source": [
    "nt.get_ttvs(elements, masses)"
   ]
  },
  {
   "cell_type": "code",
   "execution_count": null,
   "id": "9a0892df",
   "metadata": {},
   "outputs": [],
   "source": [
    "nt.get_ttvs_nodata(elements, masses)"
   ]
  },
  {
   "cell_type": "code",
   "execution_count": null,
   "id": "ae5acdf6",
   "metadata": {},
   "outputs": [],
   "source": []
  }
 ],
 "metadata": {
  "kernelspec": {
   "display_name": "Python 3 (ipykernel)",
   "language": "python",
   "name": "python3"
  },
  "language_info": {
   "codemirror_mode": {
    "name": "ipython",
    "version": 3
   },
   "file_extension": ".py",
   "mimetype": "text/x-python",
   "name": "python",
   "nbconvert_exporter": "python",
   "pygments_lexer": "ipython3",
   "version": "3.9.12"
  }
 },
 "nbformat": 4,
 "nbformat_minor": 5
}
