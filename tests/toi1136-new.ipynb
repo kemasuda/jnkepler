{
 "cells": [
  {
   "cell_type": "code",
   "execution_count": null,
   "id": "754d77a5",
   "metadata": {},
   "outputs": [],
   "source": [
    "import numpy as np\n",
    "import jax.numpy as jnp\n",
    "import matplotlib.pyplot as plt\n",
    "import pandas as pd\n",
    "import corner\n",
    "from jnkepler.jaxttv import jaxttv, elements_to_pdic, params_to_elements\n",
    "from jax.config import config\n",
    "import numpyro, jax\n",
    "config.update('jax_enable_x64', True)\n",
    "numpyro.set_platform('cpu')\n",
    "num_chains = 6\n",
    "numpyro.set_host_device_count(num_chains)\n",
    "print ('# jax device count:', jax.local_device_count())"
   ]
  },
  {
   "cell_type": "code",
   "execution_count": null,
   "id": "38ac71bd",
   "metadata": {},
   "outputs": [],
   "source": [
    "import glob\n",
    "npl = 6\n",
    "datadir = \"./toi1136/toi1136_fei_2/\""
   ]
  },
  {
   "cell_type": "code",
   "execution_count": null,
   "id": "54adabcd",
   "metadata": {},
   "outputs": [],
   "source": [
    "tcobs, errorobs, p_init = [], [], []\n",
    "for i in range(npl):\n",
    "    fname = glob.glob(datadir + \"*_planet%d_ephemeris.txt\"%(i))[0]\n",
    "    tnum, tc, tcerr = np.array(pd.read_csv(fname, delim_whitespace=True)).T\n",
    "    tcobs.append(tc)\n",
    "    errorobs.append(tcerr)\n",
    "    p, t0 = np.polyfit(tnum, tc, deg=1)\n",
    "    p_init.append(p)\n",
    "p_init = np.array(p_init)"
   ]
  },
  {
   "cell_type": "code",
   "execution_count": null,
   "id": "392a569a",
   "metadata": {},
   "outputs": [],
   "source": [
    "import itertools\n",
    "tclist = list(itertools.chain.from_iterable(tcobs))\n",
    "print (p_init[0])\n",
    "print (np.min(tclist), np.max(tclist))"
   ]
  },
  {
   "cell_type": "code",
   "execution_count": null,
   "id": "78fd837a",
   "metadata": {},
   "outputs": [],
   "source": [
    "dt = 0.1\n",
    "t_start, t_end = 1680, 2655\n",
    "jttv = jaxttv(t_start, t_end, dt)"
   ]
  },
  {
   "cell_type": "code",
   "execution_count": null,
   "id": "c5890245",
   "metadata": {},
   "outputs": [],
   "source": [
    "jttv.set_tcobs(tcobs, p_init, errorobs=errorobs)"
   ]
  },
  {
   "cell_type": "code",
   "execution_count": null,
   "id": "9818754d",
   "metadata": {
    "scrolled": false
   },
   "outputs": [],
   "source": [
    "params_best = jttv.optim(amoeba=False, mmax=1e-4, emax=0.15)#, save=outdir+\"ql\")"
   ]
  },
  {
   "cell_type": "code",
   "execution_count": null,
   "id": "5eab937e",
   "metadata": {},
   "outputs": [],
   "source": [
    "tc = jttv.check_prec(params_best)"
   ]
  },
  {
   "cell_type": "code",
   "execution_count": null,
   "id": "fb837362",
   "metadata": {},
   "outputs": [],
   "source": [
    "jttv.check_residuals(tc)"
   ]
  },
  {
   "cell_type": "code",
   "execution_count": null,
   "id": "2ef61146",
   "metadata": {},
   "outputs": [],
   "source": [
    "pdic = pd.DataFrame(elements_to_pdic(*params_to_elements(params_best, jttv.nplanet)))\n",
    "print (pdic)"
   ]
  },
  {
   "cell_type": "code",
   "execution_count": null,
   "id": "746416ca",
   "metadata": {},
   "outputs": [],
   "source": [
    "%timeit jttv.get_ttvs(*params_to_elements(params_best, jttv.nplanet))"
   ]
  },
  {
   "cell_type": "code",
   "execution_count": null,
   "id": "47a3bf49",
   "metadata": {},
   "outputs": [],
   "source": [
    "from numpyro.infer import init_to_value\n",
    "import numpyro.distributions as dist\n",
    "import jax.random as random\n",
    "\n",
    "tic_guess = jnp.array([_tcobs[0] for _tcobs in jttv.tcobs])\n",
    "p_guess = jnp.array(jttv.p_init)\n",
    "ones = jnp.ones_like(p_guess)\n",
    "\n",
    "pdic_init = elements_to_pdic(*params_to_elements(params_best, jttv.nplanet), \n",
    "                             outkeys=['period', 'ecc', 'cosw', 'sinw', 'cosi', 'lnode', 'tic', 'lnmass', 'mass'])\n",
    "init_strategy = init_to_value(values=pdic_init)\n",
    "\n",
    "def model(dp=5e-1, dtic=1e-1, emax=0.5, mmin=1e-7, mmax=1e-3, uniform_mass=False, tcjitter=None):\n",
    "    tic = numpyro.sample(\"tic\", dist.Uniform(low=tic_guess-dtic, high=tic_guess+dtic))\n",
    "    period = numpyro.sample(\"period\", dist.Uniform(low=p_guess-dp, high=p_guess+dp))\n",
    "    ecc = numpyro.sample(\"ecc\", dist.Uniform(low=ones*0, high=ones*emax))\n",
    "\n",
    "    cosw = numpyro.sample(\"cosw\", dist.Normal(scale=ones))\n",
    "    sinw = numpyro.sample(\"sinw\", dist.Normal(scale=ones))\n",
    "    omega = jnp.arctan2(sinw, cosw)\n",
    "    numpyro.deterministic(\"omega\", omega)\n",
    "\n",
    "    lnode = ones * 0\n",
    "    numpyro.deterministic(\"lnode\", lnode)\n",
    "    cosi = ones * 0\n",
    "    numpyro.deterministic(\"cosi\", cosi)\n",
    "    if uniform_mass:\n",
    "        mass = numpyro.sample(\"mass\", dist.Uniform(low=ones*mmin, high=ones*mmax))\n",
    "        numpyro.deterministic(\"lnmass\", jnp.log(mass))\n",
    "    else:\n",
    "        lnmass = numpyro.sample(\"lnmass\", dist.Uniform(low=ones*jnp.log(mmin), high=ones*jnp.log(mmax)))\n",
    "        mass = jnp.exp(lnmass)\n",
    "        numpyro.deterministic(\"mass\", mass)\n",
    "\n",
    "    #elements = jnp.array([period, ecc*cosw, ecc*sinw, cosi, lnode, tic]).T\n",
    "    elements = jnp.array([period, ecc*jnp.cos(omega), ecc*jnp.sin(omega), cosi, lnode, tic]).T\n",
    "    numpyro.deterministic(\"elements\", elements)\n",
    "\n",
    "    tcmodel, ediff = jttv.get_ttvs(elements, jnp.hstack([1., mass]))\n",
    "    if tcjitter is not None:\n",
    "        lntcjitter = numpyro.sample(\"lntcjitter\", dist.Uniform(low=-10, high=jnp.log(tcjitter)))\n",
    "        tcjitter = numpyro.deterministic(\"tcjitter\", jnp.exp(lntcjitter))\n",
    "        tcerrmodel = jnp.sqrt(jttv.errorobs_flatten**2 + tcjitter**2)\n",
    "    else:\n",
    "        tcerrmodel = jttv.errorobs_flatten\n",
    "    numpyro.deterministic(\"ediff\", ediff)\n",
    "    numpyro.deterministic(\"tcmodel\", tcmodel)\n",
    "    numpyro.sample(\"obs\", dist.Normal(loc=tcmodel, scale=tcerrmodel), obs=jttv.tcobs_flatten)"
   ]
  },
  {
   "cell_type": "code",
   "execution_count": null,
   "id": "7e0c4095",
   "metadata": {
    "scrolled": true
   },
   "outputs": [],
   "source": [
    "pdic_init"
   ]
  },
  {
   "cell_type": "code",
   "execution_count": null,
   "id": "e260be15",
   "metadata": {},
   "outputs": [],
   "source": [
    "kernel = numpyro.infer.NUTS(model, target_accept_prob=0.9, init_strategy=init_strategy)"
   ]
  },
  {
   "cell_type": "code",
   "execution_count": null,
   "id": "69fbe158",
   "metadata": {},
   "outputs": [],
   "source": [
    "nw, ns, linm, tcjitter = 100, 100, True, None # dt=0.1, 12hr\n",
    "nw, ns, linm, tcjitter = 500, 500, True, None "
   ]
  },
  {
   "cell_type": "code",
   "execution_count": null,
   "id": "95ea9839",
   "metadata": {},
   "outputs": [],
   "source": [
    "assert num_chains <= jax.local_device_count()\n",
    "mcmc = numpyro.infer.MCMC(kernel, num_warmup=nw, num_samples=ns, num_chains=num_chains)"
   ]
  },
  {
   "cell_type": "code",
   "execution_count": null,
   "id": "1ed30749",
   "metadata": {},
   "outputs": [],
   "source": [
    "output = \"toi1136/dt%.1f_\"%jttv.dt\n",
    "if not linm:\n",
    "    output += \"logm\"\n",
    "if tcjitter is not None:\n",
    "    output += \"jit_\"\n",
    "output += \"nw%d_ns%d_\"%(nw, ns)\n",
    "if num_chains > 1:\n",
    "    output += \"c%d_\"%num_chains"
   ]
  },
  {
   "cell_type": "code",
   "execution_count": null,
   "id": "06fc8701",
   "metadata": {},
   "outputs": [],
   "source": [
    "output"
   ]
  },
  {
   "cell_type": "code",
   "execution_count": null,
   "id": "782ccfa1",
   "metadata": {},
   "outputs": [],
   "source": [
    "import os, dill\n",
    "posterior = output + \"mcmc.pkl\"\n",
    "if os.path.exists(posterior):\n",
    "    print (posterior + \" loaded.\")\n",
    "    mcmc = dill.load(open(posterior, 'rb'))\n",
    "else:\n",
    "    rng_key = random.PRNGKey(0)\n",
    "    mcmc.run(rng_key, mmin=0, mmax=5e-4, uniform_mass=linm, tcjitter=tcjitter)\n",
    "    with open(base+\"mcmc.pkl\", \"wb\") as f:\n",
    "        dill.dump(mcmc, f)"
   ]
  },
  {
   "cell_type": "code",
   "execution_count": null,
   "id": "5532431f",
   "metadata": {},
   "outputs": [],
   "source": [
    "mcmc.print_summary()"
   ]
  },
  {
   "cell_type": "code",
   "execution_count": null,
   "id": "6f0430a5",
   "metadata": {},
   "outputs": [],
   "source": [
    "samples = mcmc.get_samples()"
   ]
  },
  {
   "cell_type": "code",
   "execution_count": null,
   "id": "3def4ac9",
   "metadata": {},
   "outputs": [],
   "source": [
    "idx = samples['ediff']==samples['ediff']\n",
    "mmodel, smodel = jnp.mean(samples['tcmodel'][idx], axis=0), jnp.std(samples['tcmodel'][idx], axis=0)\n",
    "jttv.quicklook(mmodel, sigma=smodel, save=output+\"postm\")"
   ]
  },
  {
   "cell_type": "code",
   "execution_count": null,
   "id": "df518d78",
   "metadata": {},
   "outputs": [],
   "source": [
    "jttv.check_residuals(mmodel)"
   ]
  },
  {
   "cell_type": "code",
   "execution_count": null,
   "id": "8f97b04b",
   "metadata": {},
   "outputs": [],
   "source": [
    "plt.xlabel(\"log10 fractional energy difference\")\n",
    "plt.hist(np.log10(np.abs(samples['ediff'])))"
   ]
  },
  {
   "cell_type": "code",
   "execution_count": null,
   "id": "512bac73",
   "metadata": {},
   "outputs": [],
   "source": [
    "M_earth = 3.0034893e-6\n",
    "samples['pmass'] = samples['mass'] / M_earth\n",
    "keys = ['pmass', 'tic', 'period', 'ecc', 'omega']"
   ]
  },
  {
   "cell_type": "code",
   "execution_count": null,
   "id": "ceb96ed8",
   "metadata": {
    "scrolled": false
   },
   "outputs": [],
   "source": [
    "for j in range(jttv.nplanet):\n",
    "    hyper = pd.DataFrame(data=dict(zip(keys, [samples[k][:,j] for k in keys])))\n",
    "    if tcjitter is not None:\n",
    "        hyper['lntcjitter'] = samples['lntcjitter']\n",
    "        labels = keys + ['lntcjitter']\n",
    "    else:\n",
    "        labels = keys\n",
    "    fig = corner.corner(hyper, labels=labels, show_titles=True, title_fmt=\".4f\")\n",
    "    plt.savefig(output+\"corner%d.png\"%(j+1), dpi=200, bbox_inches=\"tight\");"
   ]
  },
  {
   "cell_type": "markdown",
   "id": "48713fc1",
   "metadata": {},
   "source": [
    "### check convergence of transit times"
   ]
  },
  {
   "cell_type": "code",
   "execution_count": null,
   "id": "2fefe4d8",
   "metadata": {},
   "outputs": [],
   "source": [
    "jttv2 = jaxttv(t_start, t_end, dt / 10.)\n",
    "jttv2.set_tcobs(tcobs, p_init, errorobs=errorobs)"
   ]
  },
  {
   "cell_type": "code",
   "execution_count": null,
   "id": "2b1e3fc6",
   "metadata": {},
   "outputs": [],
   "source": [
    "k = 50\n",
    "tc1, ediff1 = jttv2.get_ttvs(samples['elements'][k], jnp.hstack([1., samples['mass'][k]]))\n",
    "plt.xlabel(\"tc difference (sec)\")\n",
    "plt.hist(np.array(samples['tcmodel'][k] - tc1)*86400.)"
   ]
  }
 ],
 "metadata": {
  "kernelspec": {
   "display_name": "Python 3 (ipykernel)",
   "language": "python",
   "name": "python3"
  },
  "language_info": {
   "codemirror_mode": {
    "name": "ipython",
    "version": 3
   },
   "file_extension": ".py",
   "mimetype": "text/x-python",
   "name": "python",
   "nbconvert_exporter": "python",
   "pygments_lexer": "ipython3",
   "version": "3.7.2"
  }
 },
 "nbformat": 4,
 "nbformat_minor": 5
}
